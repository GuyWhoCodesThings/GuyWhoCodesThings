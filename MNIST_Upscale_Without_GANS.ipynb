{
  "cells": [
    {
      "cell_type": "markdown",
      "metadata": {
        "id": "view-in-github",
        "colab_type": "text"
      },
      "source": [
        "<a href=\"https://colab.research.google.com/github/GuyWhoCodesThings/GuyWhoCodesThings/blob/main/MNIST_Upscale_Without_GANS.ipynb\" target=\"_parent\"><img src=\"https://colab.research.google.com/assets/colab-badge.svg\" alt=\"Open In Colab\"/></a>"
      ]
    },
    {
      "cell_type": "markdown",
      "source": [
        "My first attempt at upscaling an image using a NN. This was before I looked into GANS so the model is pretty bad overall, but still a cool project. I will make an updated version of this shortly that will be much better at creating the numbers"
      ],
      "metadata": {
        "id": "eZZM-mjTga7-"
      }
    },
    {
      "cell_type": "code",
      "execution_count": 2,
      "metadata": {
        "id": "vMILsAeZD-hy"
      },
      "outputs": [],
      "source": [
        "import cv2\n",
        "import numpy as np\n",
        "import pandas as pd\n",
        "from keras.datasets import mnist\n",
        "import random"
      ]
    },
    {
      "cell_type": "code",
      "execution_count": 3,
      "metadata": {
        "id": "sxrKxxgGEmKx"
      },
      "outputs": [],
      "source": [
        "from matplotlib import pyplot\n",
        "import tensorflow as tf"
      ]
    },
    {
      "cell_type": "code",
      "execution_count": 4,
      "metadata": {
        "colab": {
          "base_uri": "https://localhost:8080/"
        },
        "id": "hr8g5P4SEA57",
        "outputId": "4255fe9b-d378-4b51-d382-39c199bc895b"
      },
      "outputs": [
        {
          "output_type": "stream",
          "name": "stdout",
          "text": [
            "Downloading data from https://storage.googleapis.com/tensorflow/tf-keras-datasets/mnist.npz\n",
            "11493376/11490434 [==============================] - 0s 0us/step\n",
            "11501568/11490434 [==============================] - 0s 0us/step\n"
          ]
        },
        {
          "output_type": "execute_result",
          "data": {
            "text/plain": [
              "(60000, 28, 28)"
            ]
          },
          "metadata": {},
          "execution_count": 4
        }
      ],
      "source": [
        "(train_Y, non_y), (test_Y, nan_y) = mnist.load_data()\n",
        "train_Y.shape"
      ]
    },
    {
      "cell_type": "code",
      "execution_count": 5,
      "metadata": {
        "id": "9svnVxnWFPc1"
      },
      "outputs": [],
      "source": [
        "img_height, img_width = train_Y[0].shape\n",
        "down_scaled_height, down_scaled_width = [14,14]\n",
        "EPOCHS = 20\n",
        "TRAIN_LENGTH = 1000\n",
        "TEST_LENGTH = 500\n",
        "train_Y = train_Y[:TRAIN_LENGTH]\n",
        "test_Y = test_Y[:TEST_LENGTH]"
      ]
    },
    {
      "cell_type": "code",
      "execution_count": 6,
      "metadata": {
        "id": "eq2cY7Cw766m"
      },
      "outputs": [],
      "source": [
        "train_Y = train_Y / 255.\n",
        "test_Y = test_Y / 255."
      ]
    },
    {
      "cell_type": "code",
      "execution_count": 7,
      "metadata": {
        "colab": {
          "base_uri": "https://localhost:8080/",
          "height": 530
        },
        "id": "_NR8idbaEVlk",
        "outputId": "2b2f271d-0a0d-4f66-88de-b0c5becd6428"
      },
      "outputs": [
        {
          "output_type": "display_data",
          "data": {
            "text/plain": [
              "<Figure size 432x288 with 1 Axes>"
            ],
            "image/png": "[encoded data removed]"
          },
          "metadata": {
            "needs_background": "light"
          }
        },
        {
          "output_type": "display_data",
          "data": {
            "text/plain": [
              "<Figure size 432x288 with 1 Axes>"
            ],
            "image/png": "[encoded data removed]"
          },
          "metadata": {
            "needs_background": "light"
          }
        },
        {
          "output_type": "stream",
          "name": "stdout",
          "text": [
            "(14, 14)\n"
          ]
        }
      ],
      "source": [
        "img = train_Y[0]\n",
        "pyplot.imshow(img, cmap=pyplot.get_cmap('gray'))\n",
        "pyplot.show()\n",
        "res = cv2.resize(img, dsize=(down_scaled_width, down_scaled_height), interpolation=cv2.INTER_LANCZOS4) #INTER_LANCZOS4 or INTER_CUBIC\n",
        "pyplot.imshow(res, cmap=pyplot.get_cmap('gray'))\n",
        "pyplot.show()\n",
        "print(res.shape)"
      ]
    },
    {
      "cell_type": "code",
      "execution_count": 8,
      "metadata": {
        "id": "ipR6jH8EGMfV"
      },
      "outputs": [],
      "source": [
        "train_X = []\n",
        "for i in range(len(train_Y)):\n",
        "  down_scaled = cv2.resize(train_Y[i], dsize=(down_scaled_width, down_scaled_height), interpolation=cv2.INTER_LANCZOS4)\n",
        "  train_X = np.append(train_X, down_scaled).reshape(i+1,down_scaled_width, down_scaled_height)\n"
      ]
    },
    {
      "cell_type": "code",
      "execution_count": 9,
      "metadata": {
        "id": "7OqXK3nHAT21"
      },
      "outputs": [],
      "source": [
        "test_X = []\n",
        "for i in range(len(test_Y)):\n",
        "  down_scaled = cv2.resize(train_Y[i], dsize=(down_scaled_width, down_scaled_height), interpolation=cv2.INTER_LANCZOS4)\n",
        "  test_X = np.append(test_X, down_scaled).reshape(i+1,down_scaled_width, down_scaled_height)\n"
      ]
    },
    {
      "cell_type": "code",
      "execution_count": 10,
      "metadata": {
        "colab": {
          "base_uri": "https://localhost:8080/"
        },
        "id": "75VQQB3P_Obb",
        "outputId": "f7aa2666-7a18-4dfb-99a0-08be1257c58b"
      },
      "outputs": [
        {
          "output_type": "stream",
          "name": "stdout",
          "text": [
            "(1000, 784)\n"
          ]
        }
      ],
      "source": [
        "train_Y = train_Y.reshape(TRAIN_LENGTH, img_height*img_width)\n",
        "print(train_Y.shape)\n"
      ]
    },
    {
      "cell_type": "code",
      "execution_count": 11,
      "metadata": {
        "colab": {
          "base_uri": "https://localhost:8080/",
          "height": 265
        },
        "id": "2hRcSq9E-Lzm",
        "outputId": "bd47c9b3-8e8e-46bd-ec3b-bdf3063be2f7"
      },
      "outputs": [
        {
          "output_type": "display_data",
          "data": {
            "text/plain": [
              "<Figure size 432x288 with 1 Axes>"
            ],
            "image/png": "[encoded data removed]"
          },
          "metadata": {
            "needs_background": "light"
          }
        }
      ],
      "source": [
        "pyplot.imshow(train_X[random.randint(1,100)], cmap=pyplot.get_cmap('gray'))\n",
        "pyplot.show()"
      ]
    },
    {
      "cell_type": "code",
      "execution_count": 12,
      "metadata": {
        "colab": {
          "base_uri": "https://localhost:8080/"
        },
        "id": "5ZFaHjGSJNcV",
        "outputId": "eb11aa5b-f494-4ec9-d8e8-4feb57f1396e"
      },
      "outputs": [
        {
          "output_type": "execute_result",
          "data": {
            "text/plain": [
              "(1000, 14, 14)"
            ]
          },
          "metadata": {},
          "execution_count": 12
        }
      ],
      "source": [
        "train_X.shape"
      ]
    },
    {
      "cell_type": "code",
      "execution_count": 13,
      "metadata": {
        "id": "tpOanSefEjKl"
      },
      "outputs": [],
      "source": [
        "model = tf.keras.models.Sequential([\n",
        "\n",
        "    tf.keras.layers.Conv2D(10, (2, 2), activation='relu', input_shape=(down_scaled_height, down_scaled_width, 1)),\n",
        "    tf.keras.layers.MaxPooling2D(2, 2),\n",
        "    tf.keras.layers.Conv2D(6, (2, 2), activation='relu'),\n",
        "    tf.keras.layers.MaxPooling2D(2, 2),\n",
        "    tf.keras.layers.Dropout(0.2),\n",
        "    tf.keras.layers.Flatten(),\n",
        "    tf.keras.layers.Dense(40, activation='relu'),\n",
        "    tf.keras.layers.Dense(392, activation='relu'),\n",
        "    tf.keras.layers.Dense(784, activation='linear')\n",
        "])"
      ]
    },
    {
      "cell_type": "code",
      "execution_count": 14,
      "metadata": {
        "id": "TErt1yEgFhkT"
      },
      "outputs": [],
      "source": [
        "optimiser = tf.keras.optimizers.Adam(learning_rate=0.001)\n",
        "\n",
        "model.compile(\n",
        "    optimizer=optimiser, \n",
        "    loss='mean_squared_error', \n",
        "    metrics=['accuracy'])"
      ]
    },
    {
      "cell_type": "code",
      "execution_count": 15,
      "metadata": {
        "colab": {
          "base_uri": "https://localhost:8080/"
        },
        "id": "mf9HlV4PGAC6",
        "outputId": "5bcf9aa3-97b6-49ba-e99b-2b2127267c13"
      },
      "outputs": [
        {
          "output_type": "stream",
          "name": "stdout",
          "text": [
            "Model: \"sequential\"\n",
            "_________________________________________________________________\n",
            " Layer (type)                Output Shape              Param #   \n",
            "=================================================================\n",
            " conv2d (Conv2D)             (None, 13, 13, 10)        50        \n",
            "                                                                 \n",
            " max_pooling2d (MaxPooling2D  (None, 6, 6, 10)         0         \n",
            " )                                                               \n",
            "                                                                 \n",
            " conv2d_1 (Conv2D)           (None, 5, 5, 6)           246       \n",
            "                                                                 \n",
            " max_pooling2d_1 (MaxPooling  (None, 2, 2, 6)          0         \n",
            " 2D)                                                             \n",
            "                                                                 \n",
            " dropout (Dropout)           (None, 2, 2, 6)           0         \n",
            "                                                                 \n",
            " flatten (Flatten)           (None, 24)                0         \n",
            "                                                                 \n",
            " dense (Dense)               (None, 40)                1000      \n",
            "                                                                 \n",
            " dense_1 (Dense)             (None, 392)               16072     \n",
            "                                                                 \n",
            " dense_2 (Dense)             (None, 784)               308112    \n",
            "                                                                 \n",
            "=================================================================\n",
            "Total params: 325,480\n",
            "Trainable params: 325,480\n",
            "Non-trainable params: 0\n",
            "_________________________________________________________________\n"
          ]
        }
      ],
      "source": [
        "model.summary()"
      ]
    },
    {
      "cell_type": "code",
      "execution_count": 16,
      "metadata": {
        "id": "ISh2a7koGBph"
      },
      "outputs": [],
      "source": [
        "callbacks = [\n",
        "    tf.keras.callbacks.ReduceLROnPlateau(monitor='loss', patience=2, verbose=1),\n",
        "    tf.keras.callbacks.EarlyStopping(monitor='loss', patience=5, verbose=1),\n",
        "]"
      ]
    },
    {
      "cell_type": "code",
      "execution_count": 17,
      "metadata": {
        "colab": {
          "base_uri": "https://localhost:8080/"
        },
        "id": "Kreg0EWjGD8B",
        "outputId": "490b1302-3f0a-46a8-9fd4-141a8851ec73"
      },
      "outputs": [
        {
          "output_type": "stream",
          "name": "stdout",
          "text": [
            "Epoch 1/20\n",
            "32/32 [==============================] - 1s 9ms/step - loss: 0.0787 - accuracy: 0.0070\n",
            "Epoch 2/20\n",
            "32/32 [==============================] - 0s 9ms/step - loss: 0.0644 - accuracy: 0.0050\n",
            "Epoch 3/20\n",
            "32/32 [==============================] - 0s 9ms/step - loss: 0.0615 - accuracy: 0.0120\n",
            "Epoch 4/20\n",
            "32/32 [==============================] - 0s 10ms/step - loss: 0.0592 - accuracy: 0.0070\n",
            "Epoch 5/20\n",
            "32/32 [==============================] - 0s 9ms/step - loss: 0.0566 - accuracy: 0.0090\n",
            "Epoch 6/20\n",
            "32/32 [==============================] - 0s 12ms/step - loss: 0.0540 - accuracy: 0.0100\n",
            "Epoch 7/20\n",
            "32/32 [==============================] - 1s 18ms/step - loss: 0.0520 - accuracy: 0.0090\n",
            "Epoch 8/20\n",
            "32/32 [==============================] - 1s 16ms/step - loss: 0.0502 - accuracy: 0.0090\n",
            "Epoch 9/20\n",
            "32/32 [==============================] - 1s 16ms/step - loss: 0.0493 - accuracy: 0.0090\n",
            "Epoch 10/20\n",
            "32/32 [==============================] - 1s 17ms/step - loss: 0.0481 - accuracy: 0.0070\n",
            "Epoch 11/20\n",
            "32/32 [==============================] - 1s 16ms/step - loss: 0.0471 - accuracy: 0.0070\n",
            "Epoch 12/20\n",
            "32/32 [==============================] - 0s 15ms/step - loss: 0.0463 - accuracy: 0.0100\n",
            "Epoch 13/20\n",
            "32/32 [==============================] - 1s 17ms/step - loss: 0.0456 - accuracy: 0.0050\n",
            "Epoch 14/20\n",
            "32/32 [==============================] - 1s 16ms/step - loss: 0.0452 - accuracy: 0.0110\n",
            "Epoch 15/20\n",
            "32/32 [==============================] - 1s 16ms/step - loss: 0.0445 - accuracy: 0.0060\n",
            "Epoch 16/20\n",
            "32/32 [==============================] - 1s 16ms/step - loss: 0.0440 - accuracy: 0.0090\n",
            "Epoch 17/20\n",
            "32/32 [==============================] - 1s 17ms/step - loss: 0.0435 - accuracy: 0.0050\n",
            "Epoch 18/20\n",
            "32/32 [==============================] - 1s 16ms/step - loss: 0.0435 - accuracy: 0.0140\n",
            "Epoch 19/20\n",
            "32/32 [==============================] - 1s 17ms/step - loss: 0.0430 - accuracy: 0.0070\n",
            "Epoch 20/20\n",
            "32/32 [==============================] - 1s 17ms/step - loss: 0.0425 - accuracy: 0.0080\n"
          ]
        }
      ],
      "source": [
        "train_log = model.fit(\n",
        "    train_X, train_Y,\n",
        "    epochs=EPOCHS\n",
        "    #callbacks=callbacks\n",
        ")"
      ]
    },
    {
      "cell_type": "code",
      "execution_count": 18,
      "metadata": {
        "colab": {
          "base_uri": "https://localhost:8080/",
          "height": 513
        },
        "id": "7gtCO6DyA2KL",
        "outputId": "a070146a-62b4-4811-e61b-9c7018aa8b2b"
      },
      "outputs": [
        {
          "output_type": "display_data",
          "data": {
            "text/plain": [
              "<Figure size 432x288 with 1 Axes>"
            ],
            "image/png": "[encoded data removed]"
          },
          "metadata": {
            "needs_background": "light"
          }
        },
        {
          "output_type": "display_data",
          "data": {
            "text/plain": [
              "<Figure size 432x288 with 1 Axes>"
            ],
            "image/png": "[encoded data removed]"
          },
          "metadata": {
            "needs_background": "light"
          }
        }
      ],
      "source": [
        "fefe = test_X[random.randint(1,500)].reshape(1,down_scaled_width, down_scaled_height)\n",
        "pyplot.imshow(fefe.reshape(down_scaled_width, down_scaled_height), cmap=pyplot.get_cmap('gray'))\n",
        "pyplot.show()\n",
        "upscale_num = model.predict(fefe)\n",
        "pyplot.imshow(upscale_num.reshape(28,28), cmap=pyplot.get_cmap('gray'))\n",
        "pyplot.show()"
      ]
    },
    {
      "cell_type": "code",
      "execution_count": 19,
      "metadata": {
        "colab": {
          "base_uri": "https://localhost:8080/",
          "height": 513
        },
        "id": "LIv93z8dfI1I",
        "outputId": "9203c71d-df82-4ff8-cd9d-37d3da597225"
      },
      "outputs": [
        {
          "output_type": "display_data",
          "data": {
            "text/plain": [
              "<Figure size 432x288 with 1 Axes>"
            ],
            "image/png": "[encoded data removed]"
          },
          "metadata": {
            "needs_background": "light"
          }
        },
        {
          "output_type": "display_data",
          "data": {
            "text/plain": [
              "<Figure size 432x288 with 1 Axes>"
            ],
            "image/png": "[encoded data removed]"
          },
          "metadata": {
            "needs_background": "light"
          }
        }
      ],
      "source": [
        "noise = np.random.rand(196).reshape(1,down_scaled_width, down_scaled_height)\n",
        "pyplot.imshow(noise.reshape(down_scaled_width, down_scaled_height), cmap=pyplot.get_cmap('gray'))\n",
        "pyplot.show()\n",
        "upscale_num = model.predict(noise)\n",
        "pyplot.imshow(upscale_num.reshape(28,28), cmap=pyplot.get_cmap('gray'))\n",
        "pyplot.show()"
      ]
    },
    {
      "cell_type": "code",
      "execution_count": 20,
      "metadata": {
        "colab": {
          "base_uri": "https://localhost:8080/",
          "height": 513
        },
        "id": "tnNzgdmsfw-4",
        "outputId": "71cb1c8d-fc13-4bd3-9946-08723f05f127"
      },
      "outputs": [
        {
          "output_type": "display_data",
          "data": {
            "text/plain": [
              "<Figure size 432x288 with 1 Axes>"
            ],
            "image/png": "[encoded data removed]"
          },
          "metadata": {
            "needs_background": "light"
          }
        },
        {
          "output_type": "display_data",
          "data": {
            "text/plain": [
              "<Figure size 432x288 with 1 Axes>"
            ],
            "image/png": "[encoded data removed]"
          },
          "metadata": {
            "needs_background": "light"
          }
        }
      ],
      "source": [
        "gradient = np.arange(196).reshape(1,down_scaled_width, down_scaled_height)\n",
        "pyplot.imshow(gradient.reshape(down_scaled_width, down_scaled_height), cmap=pyplot.get_cmap('gray'))\n",
        "pyplot.show()\n",
        "upscale_num = model.predict(gradient)\n",
        "pyplot.imshow(upscale_num.reshape(28,28), cmap=pyplot.get_cmap('gray'))\n",
        "pyplot.show()"
      ]
    }
  ],
  "metadata": {
    "colab": {
      "collapsed_sections": [],
      "provenance": [],
      "authorship_tag": "ABX9TyM7F9dv1aAYhKj5K+WTlbaN",
      "include_colab_link": true
    },
    "kernelspec": {
      "display_name": "Python 3",
      "name": "python3"
    },
    "language_info": {
      "name": "python"
    }
  },
  "nbformat": 4,
  "nbformat_minor": 0
}