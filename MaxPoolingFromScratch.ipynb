{
  "nbformat": 4,
  "nbformat_minor": 0,
  "metadata": {
    "colab": {
      "provenance": [],
      "collapsed_sections": [],
      "authorship_tag": "ABX9TyNm0n1cEt1o//EA2XxbLT08",
      "include_colab_link": true
    },
    "kernelspec": {
      "name": "python3",
      "display_name": "Python 3"
    },
    "language_info": {
      "name": "python"
    }
  },
  "cells": [
    {
      "cell_type": "markdown",
      "metadata": {
        "id": "view-in-github",
        "colab_type": "text"
      },
      "source": [
        "<a href=\"https://colab.research.google.com/github/GuyWhoCodesThings/GuyWhoCodesThings/blob/main/MaxPoolingFromScratch.ipynb\" target=\"_parent\"><img src=\"https://colab.research.google.com/assets/colab-badge.svg\" alt=\"Open In Colab\"/></a>"
      ]
    },
    {
      "cell_type": "code",
      "execution_count": 24,
      "metadata": {
        "id": "M47qcOtbQHEY"
      },
      "outputs": [],
      "source": [
        "import numpy as np\n",
        "import pandas as pd\n",
        "from matplotlib import pyplot as plt\n",
        "from keras.datasets import mnist\n",
        "from keras.utils import np_utils\n",
        "from skimage.measure import block_reduce\n",
        "from skimage.measure import block_reduce\n",
        "from skimage.util import view_as_blocks\n",
        "import numpy.ma as ma\n",
        "from matplotlib import pyplot\n",
        "import random"
      ]
    },
    {
      "cell_type": "code",
      "source": [
        "(train_X, train_y), (test_X, test_y) = mnist.load_data()"
      ],
      "metadata": {
        "id": "k5b9YQyQgIRK"
      },
      "execution_count": 25,
      "outputs": []
    },
    {
      "cell_type": "code",
      "source": [
        "train_X.shape"
      ],
      "metadata": {
        "id": "qkyUkHFNgL1y",
        "colab": {
          "base_uri": "https://localhost:8080/"
        },
        "outputId": "f265af65-4ca9-4bcd-cba1-be714093b3ae"
      },
      "execution_count": 26,
      "outputs": [
        {
          "output_type": "execute_result",
          "data": {
            "text/plain": [
              "(60000, 28, 28)"
            ]
          },
          "metadata": {},
          "execution_count": 26
        }
      ]
    },
    {
      "cell_type": "code",
      "source": [
        "def forward_prop(image, block_size):\n",
        "  image = image / 255.\n",
        "  image_max = block_reduce(image, block_size=(block_size, block_size), func=np.max) #array for foward propagatoin of Max Pooling\n",
        "  blocks_arr_length = image_max.shape[0] * image_max.shape[0]\n",
        "  return image_max\n",
        "\n",
        "def backward_prop(array, width, height, block_size):\n",
        "  block_array = view_as_blocks(array,(block_size,block_size))\n",
        "  block_array = block_array.reshape(width,height)\n",
        "  max_indices = np.argmax(block_array, axis=1)\n",
        "  max_indices = np.expand_dims(max_indices,axis=1)\n",
        "  grad_arr = np.zeros_like(block_array)\n",
        "  np.put_along_axis(grad_arr, max_indices, 1, axis=1)\n",
        "  grad_arr = grad_arr.reshape(-1,block_size,block_size)\n",
        "  \n",
        "\n",
        "  return undo_blocks(grad_arr, width, height, block_size)\n",
        "\n",
        "def undo_blocks(array, width, height, block_size):\n",
        "  ordered_blocks = array.reshape(-1,block_size,block_size)\n",
        "  #splits every block horizontally in half\n",
        "  split_blocks = np.array(np.hsplit(ordered_blocks,block_size))\n",
        "  #splits array of blocks evenly with respect to the original image length and block size\n",
        "  split_blocks = np.array(np.hsplit(split_blocks, (width / block_size)))\n",
        "  #reshape array to get it into a sqaure shape like orignal image matrix\n",
        "  reshaped_arr = split_blocks.flatten().reshape(width,height)\n",
        "  return reshaped_arr"
      ],
      "metadata": {
        "id": "VN5B3WtDctxV"
      },
      "execution_count": 27,
      "outputs": []
    },
    {
      "cell_type": "code",
      "source": [
        "current_image = train_X[random.randint(0,10000)]"
      ],
      "metadata": {
        "id": "z-xAAvmawidr"
      },
      "execution_count": 28,
      "outputs": []
    },
    {
      "cell_type": "code",
      "source": [
        "current_image = train_X[random.randint(0,10000)]\n",
        "plt.rcParams[\"figure.figsize\"] = (6,6)\n",
        "plt.xlabel('uncompressed image')\n",
        "pyplot.imshow(current_image, cmap=pyplot.get_cmap('gray'))\n",
        "pyplot.show()\n",
        "plt.xlabel('pooled image')\n",
        "pyplot.imshow(forward_prop(current_image,2), cmap=pyplot.get_cmap('gray'))\n",
        "pyplot.show()\n",
        "plt.xlabel('gradient')\n",
        "pyplot.imshow(backward_prop(current_image,28,28,2), cmap=pyplot.get_cmap('gray'))\n",
        "pyplot.show()\n"
      ],
      "metadata": {
        "colab": {
          "base_uri": "https://localhost:8080/",
          "height": 1000
        },
        "id": "K_GM6gecFb4y",
        "outputId": "03ece7ba-605b-4aa9-eca1-07ec053e858e"
      },
      "execution_count": 29,
      "outputs": [
        {
          "output_type": "display_data",
          "data": {
            "text/plain": [
              "<Figure size 432x432 with 1 Axes>"
            ],
            "image/png": "[encoded data removed]"
          },
          "metadata": {
            "needs_background": "light"
          }
        },
        {
          "output_type": "display_data",
          "data": {
            "text/plain": [
              "<Figure size 432x432 with 1 Axes>"
            ],
            "image/png": "[encoded data removed]"
          },
          "metadata": {
            "needs_background": "light"
          }
        },
        {
          "output_type": "display_data",
          "data": {
            "text/plain": [
              "<Figure size 432x432 with 1 Axes>"
            ],
            "image/png": "[encoded data removed]"
          },
          "metadata": {
            "needs_background": "light"
          }
        }
      ]
    },
    {
      "cell_type": "code",
      "source": [],
      "metadata": {
        "id": "IDnGz1zJWln4"
      },
      "execution_count": null,
      "outputs": []
    }
  ]
}