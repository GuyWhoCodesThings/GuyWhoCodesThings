{
  "nbformat": 4,
  "nbformat_minor": 0,
  "metadata": {
    "colab": {
      "name": "ASL_recognizer.ipynb",
      "provenance": [],
      "collapsed_sections": [],
      "toc_visible": true,
      "authorship_tag": "ABX9TyNiUbmn2qEbFBKDjSbsv+W7"
    },
    "kernelspec": {
      "name": "python3",
      "display_name": "Python 3"
    },
    "language_info": {
      "name": "python"
    }
  },
  "cells": [
    {
      "cell_type": "code",
      "execution_count": null,
      "metadata": {
        "id": "MXWqMEPOXnrl"
      },
      "outputs": [],
      "source": [
        "import numpy as np\n",
        "import pandas as pd\n",
        "import matplotlib.pyplot as plt\n",
        "import tensorflow as tf\n",
        "from tensorflow.keras.models import load_model"
      ]
    },
    {
      "cell_type": "markdown",
      "source": [
        "https://www.kaggle.com/code/mattbast/image-classification-tensorflow-cnn/notebook\n",
        "\n",
        "https://www.kaggle.com/datasets/datamunge/sign-language-mnist\n",
        "\n",
        "https://www.kaggle.com/datasets/anirudhchauhan/sign-language-recognition-alphabets"
      ],
      "metadata": {
        "id": "rBpWNwGuV9BT"
      }
    },
    {
      "cell_type": "code",
      "source": [
        "def num_to_letter(number):\n",
        "    alphabet = [\"A\",\"B\",\"C\",\"D\",\"E\",\"F\",\"G\",'H',\"I\", \"J\", \"K\",\"L\",\"M\",\"N\",\"O\",\"P\",\"Q\",\"R\",\"S\",\"T\",\"U\",\"V\",\"W\",\"X\",\"Y\", \"Z\"]\n",
        "    return alphabet[number]"
      ],
      "metadata": {
        "id": "QnhOv90v5lpQ"
      },
      "execution_count": null,
      "outputs": []
    },
    {
      "cell_type": "code",
      "source": [
        "df = pd.read_csv('sign_mnist_train.csv')"
      ],
      "metadata": {
        "id": "m6OfxOlxXtIz"
      },
      "execution_count": null,
      "outputs": []
    },
    {
      "cell_type": "code",
      "source": [
        "print(df.info())\n",
        "df.head()"
      ],
      "metadata": {
        "colab": {
          "base_uri": "https://localhost:8080/",
          "height": 399
        },
        "id": "831yhY_sfiAR",
        "outputId": "7bb0143e-738d-4514-cf5a-906b93dcfcf1"
      },
      "execution_count": null,
      "outputs": [
        {
          "output_type": "stream",
          "name": "stdout",
          "text": [
            "<class 'pandas.core.frame.DataFrame'>\n",
            "RangeIndex: 27455 entries, 0 to 27454\n",
            "Columns: 785 entries, label to pixel784\n",
            "dtypes: int64(785)\n",
            "memory usage: 164.4 MB\n",
            "None\n"
          ]
        },
        {
          "output_type": "execute_result",
          "data": {
            "text/plain": [
              "   label  pixel1  pixel2  pixel3  pixel4  pixel5  pixel6  pixel7  pixel8  \\\n",
              "0      3     107     118     127     134     139     143     146     150   \n",
              "1      6     155     157     156     156     156     157     156     158   \n",
              "2      2     187     188     188     187     187     186     187     188   \n",
              "3      2     211     211     212     212     211     210     211     210   \n",
              "4     13     164     167     170     172     176     179     180     184   \n",
              "\n",
              "   pixel9  ...  pixel775  pixel776  pixel777  pixel778  pixel779  pixel780  \\\n",
              "0     153  ...       207       207       207       207       206       206   \n",
              "1     158  ...        69       149       128        87        94       163   \n",
              "2     187  ...       202       201       200       199       198       199   \n",
              "3     210  ...       235       234       233       231       230       226   \n",
              "4     185  ...        92       105       105       108       133       163   \n",
              "\n",
              "   pixel781  pixel782  pixel783  pixel784  \n",
              "0       206       204       203       202  \n",
              "1       175       103       135       149  \n",
              "2       198       195       194       195  \n",
              "3       225       222       229       163  \n",
              "4       157       163       164       179  \n",
              "\n",
              "[5 rows x 785 columns]"
            ],
            "text/html": [
              "\n",
              "  <div id=\"df-3bb4058c-67a6-4b99-be59-a1386702099f\">\n",
              "    <div class=\"colab-df-container\">\n",
              "      <div>\n",
              "<style scoped>\n",
              "    .dataframe tbody tr th:only-of-type {\n",
              "        vertical-align: middle;\n",
              "    }\n",
              "\n",
              "    .dataframe tbody tr th {\n",
              "        vertical-align: top;\n",
              "    }\n",
              "\n",
              "    .dataframe thead th {\n",
              "        text-align: right;\n",
              "    }\n",
              "</style>\n",
              "<table border=\"1\" class=\"dataframe\">\n",
              "  <thead>\n",
              "    <tr style=\"text-align: right;\">\n",
              "      <th></th>\n",
              "      <th>label</th>\n",
              "      <th>pixel1</th>\n",
              "      <th>pixel2</th>\n",
              "      <th>pixel3</th>\n",
              "      <th>pixel4</th>\n",
              "      <th>pixel5</th>\n",
              "      <th>pixel6</th>\n",
              "      <th>pixel7</th>\n",
              "      <th>pixel8</th>\n",
              "      <th>pixel9</th>\n",
              "      <th>...</th>\n",
              "      <th>pixel775</th>\n",
              "      <th>pixel776</th>\n",
              "      <th>pixel777</th>\n",
              "      <th>pixel778</th>\n",
              "      <th>pixel779</th>\n",
              "      <th>pixel780</th>\n",
              "      <th>pixel781</th>\n",
              "      <th>pixel782</th>\n",
              "      <th>pixel783</th>\n",
              "      <th>pixel784</th>\n",
              "    </tr>\n",
              "  </thead>\n",
              "  <tbody>\n",
              "    <tr>\n",
              "      <th>0</th>\n",
              "      <td>3</td>\n",
              "      <td>107</td>\n",
              "      <td>118</td>\n",
              "      <td>127</td>\n",
              "      <td>134</td>\n",
              "      <td>139</td>\n",
              "      <td>143</td>\n",
              "      <td>146</td>\n",
              "      <td>150</td>\n",
              "      <td>153</td>\n",
              "      <td>...</td>\n",
              "      <td>207</td>\n",
              "      <td>207</td>\n",
              "      <td>207</td>\n",
              "      <td>207</td>\n",
              "      <td>206</td>\n",
              "      <td>206</td>\n",
              "      <td>206</td>\n",
              "      <td>204</td>\n",
              "      <td>203</td>\n",
              "      <td>202</td>\n",
              "    </tr>\n",
              "    <tr>\n",
              "      <th>1</th>\n",
              "      <td>6</td>\n",
              "      <td>155</td>\n",
              "      <td>157</td>\n",
              "      <td>156</td>\n",
              "      <td>156</td>\n",
              "      <td>156</td>\n",
              "      <td>157</td>\n",
              "      <td>156</td>\n",
              "      <td>158</td>\n",
              "      <td>158</td>\n",
              "      <td>...</td>\n",
              "      <td>69</td>\n",
              "      <td>149</td>\n",
              "      <td>128</td>\n",
              "      <td>87</td>\n",
              "      <td>94</td>\n",
              "      <td>163</td>\n",
              "      <td>175</td>\n",
              "      <td>103</td>\n",
              "      <td>135</td>\n",
              "      <td>149</td>\n",
              "    </tr>\n",
              "    <tr>\n",
              "      <th>2</th>\n",
              "      <td>2</td>\n",
              "      <td>187</td>\n",
              "      <td>188</td>\n",
              "      <td>188</td>\n",
              "      <td>187</td>\n",
              "      <td>187</td>\n",
              "      <td>186</td>\n",
              "      <td>187</td>\n",
              "      <td>188</td>\n",
              "      <td>187</td>\n",
              "      <td>...</td>\n",
              "      <td>202</td>\n",
              "      <td>201</td>\n",
              "      <td>200</td>\n",
              "      <td>199</td>\n",
              "      <td>198</td>\n",
              "      <td>199</td>\n",
              "      <td>198</td>\n",
              "      <td>195</td>\n",
              "      <td>194</td>\n",
              "      <td>195</td>\n",
              "    </tr>\n",
              "    <tr>\n",
              "      <th>3</th>\n",
              "      <td>2</td>\n",
              "      <td>211</td>\n",
              "      <td>211</td>\n",
              "      <td>212</td>\n",
              "      <td>212</td>\n",
              "      <td>211</td>\n",
              "      <td>210</td>\n",
              "      <td>211</td>\n",
              "      <td>210</td>\n",
              "      <td>210</td>\n",
              "      <td>...</td>\n",
              "      <td>235</td>\n",
              "      <td>234</td>\n",
              "      <td>233</td>\n",
              "      <td>231</td>\n",
              "      <td>230</td>\n",
              "      <td>226</td>\n",
              "      <td>225</td>\n",
              "      <td>222</td>\n",
              "      <td>229</td>\n",
              "      <td>163</td>\n",
              "    </tr>\n",
              "    <tr>\n",
              "      <th>4</th>\n",
              "      <td>13</td>\n",
              "      <td>164</td>\n",
              "      <td>167</td>\n",
              "      <td>170</td>\n",
              "      <td>172</td>\n",
              "      <td>176</td>\n",
              "      <td>179</td>\n",
              "      <td>180</td>\n",
              "      <td>184</td>\n",
              "      <td>185</td>\n",
              "      <td>...</td>\n",
              "      <td>92</td>\n",
              "      <td>105</td>\n",
              "      <td>105</td>\n",
              "      <td>108</td>\n",
              "      <td>133</td>\n",
              "      <td>163</td>\n",
              "      <td>157</td>\n",
              "      <td>163</td>\n",
              "      <td>164</td>\n",
              "      <td>179</td>\n",
              "    </tr>\n",
              "  </tbody>\n",
              "</table>\n",
              "<p>5 rows × 785 columns</p>\n",
              "</div>\n",
              "      <button class=\"colab-df-convert\" onclick=\"convertToInteractive('df-3bb4058c-67a6-4b99-be59-a1386702099f')\"\n",
              "              title=\"Convert this dataframe to an interactive table.\"\n",
              "              style=\"display:none;\">\n",
              "        \n",
              "  <svg xmlns=\"http://www.w3.org/2000/svg\" height=\"24px\"viewBox=\"0 0 24 24\"\n",
              "       width=\"24px\">\n",
              "    <path d=\"M0 0h24v24H0V0z\" fill=\"none\"/>\n",
              "    <path d=\"M18.56 5.44l.94 2.06.94-2.06 2.06-.94-2.06-.94-.94-2.06-.94 2.06-2.06.94zm-11 1L8.5 8.5l.94-2.06 2.06-.94-2.06-.94L8.5 2.5l-.94 2.06-2.06.94zm10 10l.94 2.06.94-2.06 2.06-.94-2.06-.94-.94-2.06-.94 2.06-2.06.94z\"/><path d=\"M17.41 7.96l-1.37-1.37c-.4-.4-.92-.59-1.43-.59-.52 0-1.04.2-1.43.59L10.3 9.45l-7.72 7.72c-.78.78-.78 2.05 0 2.83L4 21.41c.39.39.9.59 1.41.59.51 0 1.02-.2 1.41-.59l7.78-7.78 2.81-2.81c.8-.78.8-2.07 0-2.86zM5.41 20L4 18.59l7.72-7.72 1.47 1.35L5.41 20z\"/>\n",
              "  </svg>\n",
              "      </button>\n",
              "      \n",
              "  <style>\n",
              "    .colab-df-container {\n",
              "      display:flex;\n",
              "      flex-wrap:wrap;\n",
              "      gap: 12px;\n",
              "    }\n",
              "\n",
              "    .colab-df-convert {\n",
              "      background-color: #E8F0FE;\n",
              "      border: none;\n",
              "      border-radius: 50%;\n",
              "      cursor: pointer;\n",
              "      display: none;\n",
              "      fill: #1967D2;\n",
              "      height: 32px;\n",
              "      padding: 0 0 0 0;\n",
              "      width: 32px;\n",
              "    }\n",
              "\n",
              "    .colab-df-convert:hover {\n",
              "      background-color: #E2EBFA;\n",
              "      box-shadow: 0px 1px 2px rgba(60, 64, 67, 0.3), 0px 1px 3px 1px rgba(60, 64, 67, 0.15);\n",
              "      fill: #174EA6;\n",
              "    }\n",
              "\n",
              "    [theme=dark] .colab-df-convert {\n",
              "      background-color: #3B4455;\n",
              "      fill: #D2E3FC;\n",
              "    }\n",
              "\n",
              "    [theme=dark] .colab-df-convert:hover {\n",
              "      background-color: #434B5C;\n",
              "      box-shadow: 0px 1px 3px 1px rgba(0, 0, 0, 0.15);\n",
              "      filter: drop-shadow(0px 1px 2px rgba(0, 0, 0, 0.3));\n",
              "      fill: #FFFFFF;\n",
              "    }\n",
              "  </style>\n",
              "\n",
              "      <script>\n",
              "        const buttonEl =\n",
              "          document.querySelector('#df-3bb4058c-67a6-4b99-be59-a1386702099f button.colab-df-convert');\n",
              "        buttonEl.style.display =\n",
              "          google.colab.kernel.accessAllowed ? 'block' : 'none';\n",
              "\n",
              "        async function convertToInteractive(key) {\n",
              "          const element = document.querySelector('#df-3bb4058c-67a6-4b99-be59-a1386702099f');\n",
              "          const dataTable =\n",
              "            await google.colab.kernel.invokeFunction('convertToInteractive',\n",
              "                                                     [key], {});\n",
              "          if (!dataTable) return;\n",
              "\n",
              "          const docLinkHtml = 'Like what you see? Visit the ' +\n",
              "            '<a target=\"_blank\" href=https://colab.research.google.com/notebooks/data_table.ipynb>data table notebook</a>'\n",
              "            + ' to learn more about interactive tables.';\n",
              "          element.innerHTML = '';\n",
              "          dataTable['output_type'] = 'display_data';\n",
              "          await google.colab.output.renderOutput(dataTable, element);\n",
              "          const docLink = document.createElement('div');\n",
              "          docLink.innerHTML = docLinkHtml;\n",
              "          element.appendChild(docLink);\n",
              "        }\n",
              "      </script>\n",
              "    </div>\n",
              "  </div>\n",
              "  "
            ]
          },
          "metadata": {},
          "execution_count": 10
        }
      ]
    },
    {
      "cell_type": "code",
      "source": [
        "img_height = 28\n",
        "img_width = 28\n",
        "BATCH_SIZE = 64\n",
        "EPOCHS = 15"
      ],
      "metadata": {
        "id": "eGFFmJqaXtjv"
      },
      "execution_count": null,
      "outputs": []
    },
    {
      "cell_type": "code",
      "source": [
        "train_data = df.head(25000)\n",
        "val_data = df.tail(2455)"
      ],
      "metadata": {
        "id": "biHFEiHiXxp8"
      },
      "execution_count": null,
      "outputs": []
    },
    {
      "cell_type": "code",
      "source": [
        "train_labels = train_data.pop(\"label\")\n",
        "val_labels = val_data.pop(\"label\")"
      ],
      "metadata": {
        "id": "iv9W6ACdX0mh"
      },
      "execution_count": null,
      "outputs": []
    },
    {
      "cell_type": "code",
      "source": [
        "output_types = train_labels.unique()\n",
        "print(output_types)\n",
        "num_output = len(output_types)\n",
        "print(num_output)"
      ],
      "metadata": {
        "colab": {
          "base_uri": "https://localhost:8080/"
        },
        "id": "EHqGKWPWL-u3",
        "outputId": "ea42201e-d2bb-4847-f0e0-dcd2037d486e"
      },
      "execution_count": null,
      "outputs": [
        {
          "output_type": "stream",
          "name": "stdout",
          "text": [
            "[ 3  6  2 13 16  8 22 18 10 20 17 19 21 23 24  1 12 11 15  4  0  5  7 14]\n",
            "24\n"
          ]
        }
      ]
    },
    {
      "cell_type": "code",
      "source": [
        "train_labels.head(20)"
      ],
      "metadata": {
        "colab": {
          "base_uri": "https://localhost:8080/"
        },
        "id": "Obz_p8o-fqzc",
        "outputId": "dd182d66-d4c7-458e-c6a7-8982d0b96116"
      },
      "execution_count": null,
      "outputs": [
        {
          "output_type": "execute_result",
          "data": {
            "text/plain": [
              "0      3\n",
              "1      6\n",
              "2      2\n",
              "3      2\n",
              "4     13\n",
              "5     16\n",
              "6      8\n",
              "7     22\n",
              "8      3\n",
              "9      3\n",
              "10    18\n",
              "11    10\n",
              "12    16\n",
              "13    22\n",
              "14    20\n",
              "15    16\n",
              "16    17\n",
              "17    13\n",
              "18    13\n",
              "19    19\n",
              "Name: label, dtype: int64"
            ]
          },
          "metadata": {},
          "execution_count": 15
        }
      ]
    },
    {
      "cell_type": "code",
      "source": [
        "tf_train_data = tf.data.Dataset.from_tensor_slices((train_data.values, train_labels.values))\n",
        "tf_val_data = tf.data.Dataset.from_tensor_slices((val_data.values, val_labels.values))\n",
        "\n",
        "print(tf_train_data)\n",
        "print(tf_val_data)"
      ],
      "metadata": {
        "colab": {
          "base_uri": "https://localhost:8080/"
        },
        "id": "uMm9hAn94aI8",
        "outputId": "eeb31bcc-382f-4d96-e385-bf9f1f80f473"
      },
      "execution_count": null,
      "outputs": [
        {
          "output_type": "stream",
          "name": "stdout",
          "text": [
            "<TensorSliceDataset element_spec=(TensorSpec(shape=(784,), dtype=tf.int64, name=None), TensorSpec(shape=(), dtype=tf.int64, name=None))>\n",
            "<TensorSliceDataset element_spec=(TensorSpec(shape=(784,), dtype=tf.int64, name=None), TensorSpec(shape=(), dtype=tf.int64, name=None))>\n"
          ]
        }
      ]
    },
    {
      "cell_type": "code",
      "source": [
        "plt.figure(figsize=(10,10))\n",
        "i = 0\n",
        "\n",
        "for image, label in tf_train_data.take(5):\n",
        "    plt.subplot(1,5,i+1)\n",
        "    plt.xticks([])\n",
        "    plt.yticks([])\n",
        "    plt.grid(False)\n",
        "\n",
        "    plt.imshow(image.numpy().reshape((28, 28)), cmap='gray')\n",
        "    plt.xlabel(num_to_letter(label.numpy()))\n",
        "\n",
        "    i+=1"
      ],
      "metadata": {
        "id": "760fiw2Z4qWq",
        "colab": {
          "base_uri": "https://localhost:8080/",
          "height": 141
        },
        "outputId": "648b8ecb-e718-4369-ecb9-8131ffa5b3f6"
      },
      "execution_count": null,
      "outputs": [
        {
          "output_type": "display_data",
          "data": {
            "text/plain": [
              "<Figure size 720x720 with 5 Axes>"
            ],
            "image/png": "[encoded data removed]"
          },
          "metadata": {}
        }
      ]
    },
    {
      "cell_type": "code",
      "source": [
        "def preprocess_image(image, label):\n",
        "    image = tf.reshape(image, [28, 28, 1])\n",
        "    image = tf.cast(image, tf.float32) / 255.\n",
        "    \n",
        "    return image, label\n",
        "\n",
        "tf_train_data = tf_train_data.map(\n",
        "    preprocess_image, \n",
        "    num_parallel_calls=tf.data.experimental.AUTOTUNE\n",
        ")\n",
        "\n",
        "tf_val_data = tf_val_data.map(\n",
        "    preprocess_image, \n",
        "    num_parallel_calls=tf.data.experimental.AUTOTUNE\n",
        ")\n",
        "\n",
        "print(tf_train_data)\n",
        "print(tf_val_data)"
      ],
      "metadata": {
        "colab": {
          "base_uri": "https://localhost:8080/"
        },
        "id": "-Ej81g8YX4-3",
        "outputId": "51b08789-caab-4159-a986-07e33f3c31f0"
      },
      "execution_count": null,
      "outputs": [
        {
          "output_type": "stream",
          "name": "stdout",
          "text": [
            "<ParallelMapDataset element_spec=(TensorSpec(shape=(28, 28, 1), dtype=tf.float32, name=None), TensorSpec(shape=(), dtype=tf.int64, name=None))>\n",
            "<ParallelMapDataset element_spec=(TensorSpec(shape=(28, 28, 1), dtype=tf.float32, name=None), TensorSpec(shape=(), dtype=tf.int64, name=None))>\n"
          ]
        }
      ]
    },
    {
      "cell_type": "code",
      "source": [
        "def pipeline(tf_data):\n",
        "    tf_data = tf_data.shuffle(100)\n",
        "    tf_data = tf_data.batch(BATCH_SIZE)\n",
        "    tf_data = tf_data.prefetch(tf.data.experimental.AUTOTUNE)\n",
        "    \n",
        "    return tf_data\n",
        "\n",
        "tf_train_data = pipeline(tf_train_data)\n",
        "tf_val_data = pipeline(tf_val_data)\n",
        "\n",
        "print(tf_train_data)\n",
        "print(tf_val_data)"
      ],
      "metadata": {
        "colab": {
          "base_uri": "https://localhost:8080/"
        },
        "id": "VTCSCEM1xXM-",
        "outputId": "9c191a78-3518-41cd-ed17-847c07512652"
      },
      "execution_count": null,
      "outputs": [
        {
          "output_type": "stream",
          "name": "stdout",
          "text": [
            "<PrefetchDataset element_spec=(TensorSpec(shape=(None, 28, 28, 1), dtype=tf.float32, name=None), TensorSpec(shape=(None,), dtype=tf.int64, name=None))>\n",
            "<PrefetchDataset element_spec=(TensorSpec(shape=(None, 28, 28, 1), dtype=tf.float32, name=None), TensorSpec(shape=(None,), dtype=tf.int64, name=None))>\n"
          ]
        }
      ]
    },
    {
      "cell_type": "code",
      "source": [
        "model = tf.keras.models.Sequential([\n",
        "    tf.keras.layers.RandomFlip(\"horizontal\", input_shape=(img_height, img_width, 1)),\n",
        "    tf.keras.layers.RandomRotation(0.05),\n",
        "    tf.keras.layers.RandomZoom(0.1),\n",
        "\n",
        "\n",
        "    tf.keras.layers.Conv2D(36, (4, 4), activation='relu', dilation_rate = 2, input_shape=(img_height, img_width, 1)),\n",
        "    tf.keras.layers.MaxPooling2D(2, 2),\n",
        "    tf.keras.layers.Conv2D(36, (4, 4), activation='relu'),\n",
        "    tf.keras.layers.MaxPooling2D(2, 2),\n",
        "    tf.keras.layers.Dropout(0.25),\n",
        "    tf.keras.layers.Flatten(),\n",
        "    tf.keras.layers.Dense(512, activation='relu'),\n",
        "    tf.keras.layers.Dense(26, activation='softmax')\n",
        "])"
      ],
      "metadata": {
        "id": "_COZs0RKhTlI"
      },
      "execution_count": null,
      "outputs": []
    },
    {
      "cell_type": "code",
      "source": [
        "optimiser = tf.keras.optimizers.Adam(learning_rate=0.001)\n",
        "\n",
        "model.compile(\n",
        "    optimizer=optimiser, \n",
        "    loss='sparse_categorical_crossentropy', \n",
        "    metrics=['accuracy'])\n",
        "\n",
        "model.summary()"
      ],
      "metadata": {
        "colab": {
          "base_uri": "https://localhost:8080/"
        },
        "id": "Sz7p5T1EYA1w",
        "outputId": "bed25022-323e-4873-ee20-6a8c98905cf6"
      },
      "execution_count": null,
      "outputs": [
        {
          "output_type": "stream",
          "name": "stdout",
          "text": [
            "Model: \"sequential_1\"\n",
            "_________________________________________________________________\n",
            " Layer (type)                Output Shape              Param #   \n",
            "=================================================================\n",
            " random_flip_1 (RandomFlip)  (None, 28, 28, 1)         0         \n",
            "                                                                 \n",
            " random_rotation_1 (RandomRo  (None, 28, 28, 1)        0         \n",
            " tation)                                                         \n",
            "                                                                 \n",
            " random_zoom_1 (RandomZoom)  (None, 28, 28, 1)         0         \n",
            "                                                                 \n",
            " conv2d_2 (Conv2D)           (None, 22, 22, 36)        612       \n",
            "                                                                 \n",
            " max_pooling2d_2 (MaxPooling  (None, 11, 11, 36)       0         \n",
            " 2D)                                                             \n",
            "                                                                 \n",
            " conv2d_3 (Conv2D)           (None, 8, 8, 36)          20772     \n",
            "                                                                 \n",
            " max_pooling2d_3 (MaxPooling  (None, 4, 4, 36)         0         \n",
            " 2D)                                                             \n",
            "                                                                 \n",
            " dropout_1 (Dropout)         (None, 4, 4, 36)          0         \n",
            "                                                                 \n",
            " flatten_1 (Flatten)         (None, 576)               0         \n",
            "                                                                 \n",
            " dense_2 (Dense)             (None, 512)               295424    \n",
            "                                                                 \n",
            " dense_3 (Dense)             (None, 26)                13338     \n",
            "                                                                 \n",
            "=================================================================\n",
            "Total params: 330,146\n",
            "Trainable params: 330,146\n",
            "Non-trainable params: 0\n",
            "_________________________________________________________________\n"
          ]
        }
      ]
    },
    {
      "cell_type": "code",
      "source": [
        "callbacks = [\n",
        "    tf.keras.callbacks.ReduceLROnPlateau(monitor='loss', patience=2, verbose=1),\n",
        "    tf.keras.callbacks.EarlyStopping(monitor='loss', patience=5, verbose=1),\n",
        "]"
      ],
      "metadata": {
        "id": "Z6KG3O9SZgXA"
      },
      "execution_count": null,
      "outputs": []
    },
    {
      "cell_type": "code",
      "source": [
        "train_log = model.fit(\n",
        "    tf_train_data,\n",
        "    validation_data=tf_val_data,\n",
        "    epochs=EPOCHS,\n",
        "    callbacks=callbacks\n",
        ")"
      ],
      "metadata": {
        "colab": {
          "base_uri": "https://localhost:8080/"
        },
        "id": "30RVBJu_jifP",
        "outputId": "2a7db141-bb95-42f3-fd11-2c6beacf1e03"
      },
      "execution_count": null,
      "outputs": [
        {
          "output_type": "stream",
          "name": "stdout",
          "text": [
            "Epoch 1/15\n",
            "391/391 [==============================] - 18s 43ms/step - loss: 2.1776 - accuracy: 0.3221 - val_loss: 1.0933 - val_accuracy: 0.6631 - lr: 0.0010\n",
            "Epoch 2/15\n",
            "391/391 [==============================] - 16s 41ms/step - loss: 1.2128 - accuracy: 0.6048 - val_loss: 0.5925 - val_accuracy: 0.8090 - lr: 0.0010\n",
            "Epoch 3/15\n",
            "391/391 [==============================] - 17s 44ms/step - loss: 0.8025 - accuracy: 0.7341 - val_loss: 0.3314 - val_accuracy: 0.9014 - lr: 0.0010\n",
            "Epoch 4/15\n",
            "391/391 [==============================] - 16s 41ms/step - loss: 0.5636 - accuracy: 0.8116 - val_loss: 0.2901 - val_accuracy: 0.8961 - lr: 0.0010\n",
            "Epoch 5/15\n",
            "391/391 [==============================] - 16s 40ms/step - loss: 0.4228 - accuracy: 0.8619 - val_loss: 0.1919 - val_accuracy: 0.9430 - lr: 0.0010\n",
            "Epoch 6/15\n",
            "391/391 [==============================] - 16s 41ms/step - loss: 0.3387 - accuracy: 0.8864 - val_loss: 0.1923 - val_accuracy: 0.9279 - lr: 0.0010\n",
            "Epoch 7/15\n",
            "391/391 [==============================] - 16s 40ms/step - loss: 0.2758 - accuracy: 0.9101 - val_loss: 0.1290 - val_accuracy: 0.9621 - lr: 0.0010\n",
            "Epoch 8/15\n",
            "391/391 [==============================] - 16s 40ms/step - loss: 0.2177 - accuracy: 0.9283 - val_loss: 0.0888 - val_accuracy: 0.9768 - lr: 0.0010\n",
            "Epoch 9/15\n",
            "391/391 [==============================] - 16s 41ms/step - loss: 0.1898 - accuracy: 0.9380 - val_loss: 0.0676 - val_accuracy: 0.9760 - lr: 0.0010\n",
            "Epoch 10/15\n",
            "391/391 [==============================] - 20s 50ms/step - loss: 0.1603 - accuracy: 0.9482 - val_loss: 0.0485 - val_accuracy: 0.9866 - lr: 0.0010\n",
            "Epoch 11/15\n",
            "391/391 [==============================] - 15s 39ms/step - loss: 0.1437 - accuracy: 0.9529 - val_loss: 0.0312 - val_accuracy: 0.9931 - lr: 0.0010\n",
            "Epoch 12/15\n",
            "391/391 [==============================] - 15s 39ms/step - loss: 0.1240 - accuracy: 0.9589 - val_loss: 0.0406 - val_accuracy: 0.9882 - lr: 0.0010\n",
            "Epoch 13/15\n",
            "391/391 [==============================] - 15s 39ms/step - loss: 0.1134 - accuracy: 0.9628 - val_loss: 0.0380 - val_accuracy: 0.9890 - lr: 0.0010\n",
            "Epoch 14/15\n",
            "391/391 [==============================] - 15s 39ms/step - loss: 0.1046 - accuracy: 0.9660 - val_loss: 0.0390 - val_accuracy: 0.9890 - lr: 0.0010\n",
            "Epoch 15/15\n",
            "391/391 [==============================] - 16s 41ms/step - loss: 0.0929 - accuracy: 0.9695 - val_loss: 0.0197 - val_accuracy: 0.9963 - lr: 0.0010\n"
          ]
        }
      ]
    },
    {
      "cell_type": "code",
      "source": [
        "%matplotlib inline\n",
        "import matplotlib.pyplot as plt\n",
        "acc = train_log.history['accuracy']\n",
        "val_acc = train_log.history['val_accuracy']\n",
        "loss = train_log.history['loss']\n",
        "val_loss = train_log.history['val_loss']\n",
        "\n",
        "epochs = range(len(acc))\n",
        "\n",
        "plt.plot(epochs, acc, 'r', label='Training accuracy')\n",
        "plt.plot(epochs, val_acc, 'b', label='Validation accuracy')\n",
        "plt.title('Training and validation accuracy')\n",
        "plt.legend()\n",
        "plt.figure()\n",
        "\n",
        "plt.plot(epochs, loss, 'r', label='Training Loss')\n",
        "plt.plot(epochs, val_loss, 'b', label='Validation Loss')\n",
        "plt.title('Training and validation loss')\n",
        "plt.legend()\n",
        "\n",
        "plt.show()"
      ],
      "metadata": {
        "id": "rqUCpxhL8wvo",
        "colab": {
          "base_uri": "https://localhost:8080/",
          "height": 545
        },
        "outputId": "da8ec356-de93-401f-e3e8-d59b7e842a62"
      },
      "execution_count": null,
      "outputs": [
        {
          "output_type": "display_data",
          "data": {
            "text/plain": [
              "<Figure size 432x288 with 1 Axes>"
            ],
            "image/png": "[encoded data removed]"
          },
          "metadata": {
            "needs_background": "light"
          }
        },
        {
          "output_type": "display_data",
          "data": {
            "text/plain": [
              "<Figure size 432x288 with 1 Axes>"
            ],
            "image/png": "[encoded data removed]"
          },
          "metadata": {
            "needs_background": "light"
          }
        }
      ]
    },
    {
      "cell_type": "code",
      "source": [
        "test_df = pd.read_csv(\"sign_mnist_test.csv\")"
      ],
      "metadata": {
        "id": "7SORMsmZujaE"
      },
      "execution_count": null,
      "outputs": []
    },
    {
      "cell_type": "code",
      "source": [
        "test_label = test_df.pop('label')\n",
        "test_X = test_df.values\n",
        "test_X = test_X.reshape(-1, 28, 28, 1).astype(\"float32\") / 255\n"
      ],
      "metadata": {
        "id": "iSXTzIjUuj3m"
      },
      "execution_count": null,
      "outputs": []
    },
    {
      "cell_type": "code",
      "source": [
        "test_X.shape"
      ],
      "metadata": {
        "colab": {
          "base_uri": "https://localhost:8080/"
        },
        "id": "ATgtrbaJDx8v",
        "outputId": "13bcb494-6654-4386-858d-87ad5c634201"
      },
      "execution_count": null,
      "outputs": [
        {
          "output_type": "execute_result",
          "data": {
            "text/plain": [
              "(7172, 28, 28, 1)"
            ]
          },
          "metadata": {},
          "execution_count": 28
        }
      ]
    },
    {
      "cell_type": "code",
      "source": [
        "score = model.evaluate(test_X, test_label)"
      ],
      "metadata": {
        "colab": {
          "base_uri": "https://localhost:8080/"
        },
        "id": "_Tz24lhwubWD",
        "outputId": "46fe729a-88e4-4a0b-caae-320969ae5b82"
      },
      "execution_count": null,
      "outputs": [
        {
          "output_type": "stream",
          "name": "stdout",
          "text": [
            "225/225 [==============================] - 2s 7ms/step - loss: 0.2051 - accuracy: 0.9398\n"
          ]
        }
      ]
    },
    {
      "cell_type": "code",
      "source": [
        "model.save('ASL.h5')\n",
        "print('Model Saved!')\n",
        "saved_model = load_model('ASL.h5')\n",
        "print('Model Loaded!')\n",
        "saved_model.summary()"
      ],
      "metadata": {
        "id": "J_7NclUWhza8",
        "colab": {
          "base_uri": "https://localhost:8080/"
        },
        "outputId": "dcd44568-7011-4b53-fb5d-63f15397e2d1"
      },
      "execution_count": null,
      "outputs": [
        {
          "output_type": "stream",
          "name": "stdout",
          "text": [
            "Model Saved!\n",
            "Model Loaded!\n",
            "Model: \"sequential_1\"\n",
            "_________________________________________________________________\n",
            " Layer (type)                Output Shape              Param #   \n",
            "=================================================================\n",
            " random_flip_1 (RandomFlip)  (None, 28, 28, 1)         0         \n",
            "                                                                 \n",
            " random_rotation_1 (RandomRo  (None, 28, 28, 1)        0         \n",
            " tation)                                                         \n",
            "                                                                 \n",
            " random_zoom_1 (RandomZoom)  (None, 28, 28, 1)         0         \n",
            "                                                                 \n",
            " conv2d_2 (Conv2D)           (None, 22, 22, 36)        612       \n",
            "                                                                 \n",
            " max_pooling2d_2 (MaxPooling  (None, 11, 11, 36)       0         \n",
            " 2D)                                                             \n",
            "                                                                 \n",
            " conv2d_3 (Conv2D)           (None, 8, 8, 36)          20772     \n",
            "                                                                 \n",
            " max_pooling2d_3 (MaxPooling  (None, 4, 4, 36)         0         \n",
            " 2D)                                                             \n",
            "                                                                 \n",
            " dropout_1 (Dropout)         (None, 4, 4, 36)          0         \n",
            "                                                                 \n",
            " flatten_1 (Flatten)         (None, 576)               0         \n",
            "                                                                 \n",
            " dense_2 (Dense)             (None, 512)               295424    \n",
            "                                                                 \n",
            " dense_3 (Dense)             (None, 26)                13338     \n",
            "                                                                 \n",
            "=================================================================\n",
            "Total params: 330,146\n",
            "Trainable params: 330,146\n",
            "Non-trainable params: 0\n",
            "_________________________________________________________________\n"
          ]
        }
      ]
    },
    {
      "cell_type": "code",
      "source": [
        "model.save_weights('gfgModelWeights')\n",
        "print('Model Saved!')\n",
        " \n",
        "# load model\n",
        "savedModel = model.load_weights('gfgModelWeights')\n",
        "print('Model Loaded!')"
      ],
      "metadata": {
        "id": "etcu5aLSirKQ",
        "colab": {
          "base_uri": "https://localhost:8080/"
        },
        "outputId": "137e87cd-33b9-4b7e-d440-05138f515dfd"
      },
      "execution_count": null,
      "outputs": [
        {
          "output_type": "stream",
          "name": "stdout",
          "text": [
            "Model Saved!\n",
            "Model Loaded!\n"
          ]
        }
      ]
    },
    {
      "cell_type": "code",
      "source": [
        "# saving and loading the .h5 model\n",
        " \n",
        "# save model\n",
        "model.save_weights('gfgModelWeights.h5')\n",
        "print('Model Saved!')\n",
        " \n",
        "# load model\n",
        "savedModel = model.load_weights('gfgModelWeights.h5')\n",
        "print('Model Loaded!')"
      ],
      "metadata": {
        "id": "AjRdkORoi_Xi",
        "colab": {
          "base_uri": "https://localhost:8080/"
        },
        "outputId": "c32690db-904c-45df-ec23-7dbdb4ec9631"
      },
      "execution_count": null,
      "outputs": [
        {
          "output_type": "stream",
          "name": "stdout",
          "text": [
            "Model Saved!\n",
            "Model Loaded!\n"
          ]
        }
      ]
    },
    {
      "cell_type": "code",
      "source": [
        "#TESTING SAVED MODEL"
      ],
      "metadata": {
        "id": "wi4mHmNjjCy7"
      },
      "execution_count": null,
      "outputs": []
    },
    {
      "cell_type": "code",
      "source": [
        "pred_df = pd.read_csv(\"sign_mnist_test.csv\")"
      ],
      "metadata": {
        "id": "cq6IQHq9JyD2"
      },
      "execution_count": null,
      "outputs": []
    },
    {
      "cell_type": "markdown",
      "source": [
        "need to use different way of drawing graph bc plt.show doesnt work in while loop."
      ],
      "metadata": {
        "id": "dLrdRLKzQJeg"
      }
    },
    {
      "cell_type": "code",
      "source": [
        "#play game\n",
        "\n",
        "plt.figure(figsize=(10,10))\n",
        "plt.xticks([])\n",
        "plt.yticks([])\n",
        "plt.grid(False)\n",
        "\n",
        "print(\"Test your sign langauge knowledge by going against a computer!\")\n",
        "\n",
        "print(\"enter 'start' to play game and 'stop' to end game\")\n",
        "\n",
        "if input() == 'start':\n",
        "  status = True\n",
        "  while(status != False):\n",
        "\n",
        "    pd_prediction = pred_df.sample()\n",
        "    prediction_label = pd_prediction.pop('label')\n",
        "    my_prediction = pd_prediction.values\n",
        "    my_prediction = my_prediction.reshape(-1, 28, 28, 1).astype(\"float32\") / 255.\n",
        "\n",
        "    predictions = model.predict(my_prediction)\n",
        "    score = tf.nn.softmax(predictions)\n",
        "    computer_guess = num_to_letter(np.argmax(score))\n",
        "\n",
        "    prediction_num = int(prediction_label.values)\n",
        "\n",
        "    answer = num_to_letter(prediction_num)\n",
        "\n",
        "\n",
        "    plt.imshow(my_prediction.reshape((28, 28)), cmap='gray')\n",
        "\n",
        "    player_guess = input(\"Your guess: \")\n",
        "    print('Computer guess: ', computer_guess)\n",
        "\n",
        "    print('Actual letter was: ', answer)\n",
        "\n",
        "    if player_guess == answer and computer_guess == answer:\n",
        "      print(\"U both won!\")\n",
        "    elif player_guess == answer:\n",
        "      print(\"You won\")\n",
        "    elif computer_guess == answer:\n",
        "      print(\"Computer won\")\n",
        "    else:\n",
        "      print(\"U both lost!\")\n",
        "\n",
        "    if player_guess == 'stop':\n",
        "      status = False\n"
      ],
      "metadata": {
        "colab": {
          "base_uri": "https://localhost:8080/",
          "height": 1000
        },
        "id": "nEg-US7kpxSc",
        "outputId": "026bd1c8-f53a-407a-fd5a-0dfc5745ad36"
      },
      "execution_count": null,
      "outputs": [
        {
          "output_type": "stream",
          "name": "stdout",
          "text": [
            "Test your sign langauge knowledge by going against a computer!\n",
            "enter 'start' to play game and 'stop' to end game\n",
            "start\n",
            "Your guess: a\n",
            "Computer guess:  G\n",
            "Actual letter was:  G\n",
            "Computer won\n",
            "Your guess: a\n",
            "Computer guess:  T\n",
            "Actual letter was:  T\n",
            "Computer won\n",
            "Your guess: a\n",
            "Computer guess:  Y\n",
            "Actual letter was:  Y\n",
            "Computer won\n",
            "Your guess: a\n",
            "Computer guess:  F\n",
            "Actual letter was:  F\n",
            "Computer won\n",
            "Your guess: a\n",
            "Computer guess:  A\n",
            "Actual letter was:  A\n",
            "Computer won\n",
            "Your guess: a\n",
            "Computer guess:  C\n",
            "Actual letter was:  O\n",
            "U both lost!\n",
            "Your guess: a\n",
            "Computer guess:  A\n",
            "Actual letter was:  A\n",
            "Computer won\n",
            "Your guess: a\n",
            "Computer guess:  X\n",
            "Actual letter was:  X\n",
            "Computer won\n",
            "Your guess: a\n",
            "Computer guess:  V\n",
            "Actual letter was:  V\n",
            "Computer won\n",
            "Your guess: a\n",
            "Computer guess:  E\n",
            "Actual letter was:  E\n",
            "Computer won\n",
            "Your guess: a\n",
            "Computer guess:  B\n",
            "Actual letter was:  B\n",
            "Computer won\n",
            "Your guess: a\n",
            "Computer guess:  V\n",
            "Actual letter was:  V\n",
            "Computer won\n",
            "Your guess: a\n",
            "Computer guess:  M\n",
            "Actual letter was:  E\n",
            "U both lost!\n",
            "Your guess: a\n",
            "Computer guess:  X\n",
            "Actual letter was:  X\n",
            "Computer won\n",
            "Your guess: a\n",
            "Computer guess:  Q\n",
            "Actual letter was:  Q\n",
            "Computer won\n",
            "Your guess: a\n",
            "Computer guess:  I\n",
            "Actual letter was:  I\n",
            "Computer won\n",
            "Your guess: a\n",
            "Computer guess:  X\n",
            "Actual letter was:  X\n",
            "Computer won\n",
            "Your guess: a\n",
            "Computer guess:  H\n",
            "Actual letter was:  H\n",
            "Computer won\n",
            "Your guess: a\n",
            "Computer guess:  H\n",
            "Actual letter was:  P\n",
            "U both lost!\n",
            "Your guess: a\n",
            "Computer guess:  K\n",
            "Actual letter was:  K\n",
            "Computer won\n",
            "Your guess: d\n",
            "Computer guess:  G\n",
            "Actual letter was:  G\n",
            "Computer won\n",
            "Your guess: w\n",
            "Computer guess:  V\n",
            "Actual letter was:  V\n",
            "Computer won\n",
            "Your guess: a\n",
            "Computer guess:  B\n",
            "Actual letter was:  B\n",
            "Computer won\n",
            "Your guess: s\n",
            "Computer guess:  R\n",
            "Actual letter was:  U\n",
            "U both lost!\n",
            "Your guess: d\n",
            "Computer guess:  G\n",
            "Actual letter was:  G\n",
            "Computer won\n",
            "Your guess: a\n",
            "Computer guess:  D\n",
            "Actual letter was:  D\n",
            "Computer won\n",
            "Your guess: \n",
            "Computer guess:  P\n",
            "Actual letter was:  P\n",
            "Computer won\n",
            "Your guess: \n",
            "Computer guess:  A\n",
            "Actual letter was:  A\n",
            "Computer won\n",
            "Your guess: g\n",
            "Computer guess:  S\n",
            "Actual letter was:  S\n",
            "Computer won\n",
            "Your guess: f\n",
            "Computer guess:  U\n",
            "Actual letter was:  U\n",
            "Computer won\n"
          ]
        },
        {
          "output_type": "error",
          "ename": "KeyboardInterrupt",
          "evalue": "ignored",
          "traceback": [
            "\u001b[0;31m---------------------------------------------------------------------------\u001b[0m",
            "\u001b[0;31mKeyboardInterrupt\u001b[0m                         Traceback (most recent call last)",
            "\u001b[0;32m<ipython-input-32-9cbe8c577cbe>\u001b[0m in \u001b[0;36m<module>\u001b[0;34m\u001b[0m\n\u001b[1;32m     30\u001b[0m     \u001b[0mplt\u001b[0m\u001b[0;34m.\u001b[0m\u001b[0mimshow\u001b[0m\u001b[0;34m(\u001b[0m\u001b[0mmy_prediction\u001b[0m\u001b[0;34m.\u001b[0m\u001b[0mreshape\u001b[0m\u001b[0;34m(\u001b[0m\u001b[0;34m(\u001b[0m\u001b[0;36m28\u001b[0m\u001b[0;34m,\u001b[0m \u001b[0;36m28\u001b[0m\u001b[0;34m)\u001b[0m\u001b[0;34m)\u001b[0m\u001b[0;34m,\u001b[0m \u001b[0mcmap\u001b[0m\u001b[0;34m=\u001b[0m\u001b[0;34m'gray'\u001b[0m\u001b[0;34m)\u001b[0m\u001b[0;34m\u001b[0m\u001b[0;34m\u001b[0m\u001b[0m\n\u001b[1;32m     31\u001b[0m \u001b[0;34m\u001b[0m\u001b[0m\n\u001b[0;32m---> 32\u001b[0;31m     \u001b[0mplayer_guess\u001b[0m \u001b[0;34m=\u001b[0m \u001b[0minput\u001b[0m\u001b[0;34m(\u001b[0m\u001b[0;34m\"Your guess: \"\u001b[0m\u001b[0;34m)\u001b[0m\u001b[0;34m\u001b[0m\u001b[0;34m\u001b[0m\u001b[0m\n\u001b[0m\u001b[1;32m     33\u001b[0m     \u001b[0mprint\u001b[0m\u001b[0;34m(\u001b[0m\u001b[0;34m'Computer guess: '\u001b[0m\u001b[0;34m,\u001b[0m \u001b[0mcomputer_guess\u001b[0m\u001b[0;34m)\u001b[0m\u001b[0;34m\u001b[0m\u001b[0;34m\u001b[0m\u001b[0m\n\u001b[1;32m     34\u001b[0m \u001b[0;34m\u001b[0m\u001b[0m\n",
            "\u001b[0;32m/usr/local/lib/python3.7/dist-packages/ipykernel/kernelbase.py\u001b[0m in \u001b[0;36mraw_input\u001b[0;34m(self, prompt)\u001b[0m\n\u001b[1;32m    861\u001b[0m             \u001b[0mself\u001b[0m\u001b[0;34m.\u001b[0m\u001b[0m_parent_ident\u001b[0m\u001b[0;34m,\u001b[0m\u001b[0;34m\u001b[0m\u001b[0;34m\u001b[0m\u001b[0m\n\u001b[1;32m    862\u001b[0m             \u001b[0mself\u001b[0m\u001b[0;34m.\u001b[0m\u001b[0m_parent_header\u001b[0m\u001b[0;34m,\u001b[0m\u001b[0;34m\u001b[0m\u001b[0;34m\u001b[0m\u001b[0m\n\u001b[0;32m--> 863\u001b[0;31m             \u001b[0mpassword\u001b[0m\u001b[0;34m=\u001b[0m\u001b[0;32mFalse\u001b[0m\u001b[0;34m,\u001b[0m\u001b[0;34m\u001b[0m\u001b[0;34m\u001b[0m\u001b[0m\n\u001b[0m\u001b[1;32m    864\u001b[0m         )\n\u001b[1;32m    865\u001b[0m \u001b[0;34m\u001b[0m\u001b[0m\n",
            "\u001b[0;32m/usr/local/lib/python3.7/dist-packages/ipykernel/kernelbase.py\u001b[0m in \u001b[0;36m_input_request\u001b[0;34m(self, prompt, ident, parent, password)\u001b[0m\n\u001b[1;32m    902\u001b[0m             \u001b[0;32mexcept\u001b[0m \u001b[0mKeyboardInterrupt\u001b[0m\u001b[0;34m:\u001b[0m\u001b[0;34m\u001b[0m\u001b[0;34m\u001b[0m\u001b[0m\n\u001b[1;32m    903\u001b[0m                 \u001b[0;31m# re-raise KeyboardInterrupt, to truncate traceback\u001b[0m\u001b[0;34m\u001b[0m\u001b[0;34m\u001b[0m\u001b[0;34m\u001b[0m\u001b[0m\n\u001b[0;32m--> 904\u001b[0;31m                 \u001b[0;32mraise\u001b[0m \u001b[0mKeyboardInterrupt\u001b[0m\u001b[0;34m(\u001b[0m\u001b[0;34m\"Interrupted by user\"\u001b[0m\u001b[0;34m)\u001b[0m \u001b[0;32mfrom\u001b[0m \u001b[0;32mNone\u001b[0m\u001b[0;34m\u001b[0m\u001b[0;34m\u001b[0m\u001b[0m\n\u001b[0m\u001b[1;32m    905\u001b[0m             \u001b[0;32mexcept\u001b[0m \u001b[0mException\u001b[0m \u001b[0;32mas\u001b[0m \u001b[0me\u001b[0m\u001b[0;34m:\u001b[0m\u001b[0;34m\u001b[0m\u001b[0;34m\u001b[0m\u001b[0m\n\u001b[1;32m    906\u001b[0m                 \u001b[0mself\u001b[0m\u001b[0;34m.\u001b[0m\u001b[0mlog\u001b[0m\u001b[0;34m.\u001b[0m\u001b[0mwarning\u001b[0m\u001b[0;34m(\u001b[0m\u001b[0;34m\"Invalid Message:\"\u001b[0m\u001b[0;34m,\u001b[0m \u001b[0mexc_info\u001b[0m\u001b[0;34m=\u001b[0m\u001b[0;32mTrue\u001b[0m\u001b[0;34m)\u001b[0m\u001b[0;34m\u001b[0m\u001b[0;34m\u001b[0m\u001b[0m\n",
            "\u001b[0;31mKeyboardInterrupt\u001b[0m: Interrupted by user"
          ]
        },
        {
          "output_type": "display_data",
          "data": {
            "text/plain": [
              "<Figure size 720x720 with 1 Axes>"
            ],
            "image/png": "[encoded data removed]"
          },
          "metadata": {}
        }
      ]
    },
    {
      "cell_type": "code",
      "source": [
        "df"
      ],
      "metadata": {
        "id": "tl8GysK5IMTu"
      },
      "execution_count": null,
      "outputs": []
    }
  ]
}